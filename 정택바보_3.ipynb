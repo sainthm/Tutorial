{
  "nbformat": 4,
  "nbformat_minor": 0,
  "metadata": {
    "colab": {
      "provenance": [],
      "authorship_tag": "ABX9TyPj7W/xhQ29PSVr5/Psr10Q",
      "include_colab_link": true
    },
    "kernelspec": {
      "name": "python3",
      "display_name": "Python 3"
    },
    "language_info": {
      "name": "python"
    }
  },
  "cells": [
    {
      "cell_type": "markdown",
      "metadata": {
        "id": "view-in-github",
        "colab_type": "text"
      },
      "source": [
        "<a href=\"https://colab.research.google.com/github/sainthm/Tutorial/blob/master/%EC%A0%95%ED%83%9D%EB%B0%94%EB%B3%B4_3.ipynb\" target=\"_parent\"><img src=\"https://colab.research.google.com/assets/colab-badge.svg\" alt=\"Open In Colab\"/></a>"
      ]
    },
    {
      "cell_type": "code",
      "source": [
        "print(\"정택이는 바보에요!! 반박시 내 말이 맞음!!!!\")"
      ],
      "metadata": {
        "colab": {
          "base_uri": "https://localhost:8080/"
        },
        "id": "B2JmsRt_Oryd",
        "outputId": "8f71124a-7953-4b7c-b8b5-edd1179785c5"
      },
      "execution_count": 2,
      "outputs": [
        {
          "output_type": "stream",
          "name": "stdout",
          "text": [
            "정택이는 바보에요!! 반박시 내 말이 맞음!!!!\n"
          ]
        }
      ]
    },
    {
      "cell_type": "code",
      "execution_count": 1,
      "metadata": {
        "colab": {
          "base_uri": "https://localhost:8080/"
        },
        "id": "5ZVgJiE-OJIn",
        "outputId": "fd672937-9e01-476f-cc9d-5ab5c46ff83c"
      },
      "outputs": [
        {
          "output_type": "stream",
          "name": "stdout",
          "text": [
            "정택이는 바보에요!! 반박시 내 말이 맞음!!\n"
          ]
        }
      ],
      "source": [
        "# test\n",
        "print(\"정택이는 바보에요!! 반박시 내 말이 맞음!!\")"
      ]
    }
  ]
}